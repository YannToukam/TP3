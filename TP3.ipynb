{
 "cells": [
  {
   "cell_type": "code",
   "execution_count": 362,
   "id": "debaee70",
   "metadata": {},
   "outputs": [],
   "source": [
    "import pandas as pd\n",
    "import matplotlib.pyplot as plt\n",
    "import seaborn as sns"
   ]
  },
  {
   "cell_type": "markdown",
   "id": "060f4802",
   "metadata": {},
   "source": [
    "# 1. Preparation des donnees"
   ]
  },
  {
   "cell_type": "code",
   "execution_count": 363,
   "id": "eeaf5ccf",
   "metadata": {},
   "outputs": [],
   "source": [
    "# TODO Completer la fonction charger_donnees\n",
    "def charger_donnees(file_path):\n",
    "    df = pd.read_csv(file_path)\n",
    "    \n",
    "    \"\"\"\n",
    "    Lire le fichier csv passé en paramètre et retourner un DataFrame contenant les données du fichier csv.\n",
    "    @param file_path : le chemin vers le fichier csv\n",
    "    @return: DataFrame contenant les données du fichier csv.\n",
    "    \"\"\"\n",
    "    return df"
   ]
  },
  {
   "cell_type": "code",
   "execution_count": 364,
   "id": "133b88ba",
   "metadata": {},
   "outputs": [],
   "source": [
    "# TODO Charger le fichier csv de données\n",
    "df = charger_donnees(\"data/analysis.csv\")"
   ]
  },
  {
   "cell_type": "code",
   "execution_count": 365,
   "id": "606e3bc8",
   "metadata": {},
   "outputs": [
    {
     "name": "stdout",
     "output_type": "stream",
     "text": [
      "                                                 url  star_count  fork_count  \\\n",
      "0  https://github.com/encode/django-rest-framewor...       28071        6798   \n",
      "1                  https://github.com/adobe/OSAS.git         152          26   \n",
      "2     https://github.com/xp4xbox/Python-Backdoor.git         706         207   \n",
      "3               https://github.com/sktime/sktime.git        7678        1307   \n",
      "4  https://github.com/RobertoFalconi/GameRatingsP...           5           2   \n",
      "\n",
      "      ML   Category  \n",
      "0  False  Framework  \n",
      "1   True       Tool  \n",
      "2  False       Tool  \n",
      "3   True    Library  \n",
      "4   True     Course  \n"
     ]
    }
   ],
   "source": [
    "# TODO Afficher les 5 premières lignes pour vérifier le chargement\n",
    "print(df.loc[[0,1,2,3,4]])"
   ]
  },
  {
   "cell_type": "code",
   "execution_count": 366,
   "id": "c2b0b354",
   "metadata": {},
   "outputs": [],
   "source": [
    "# TODO Créer la fonction supprimer_colonne qui supprime la colonne que l'utilisateur souhaite supprimer\n",
    "def supprimer_colonne(dataframe,  nom_col):\n",
    "    \"\"\"\n",
    "    Supprime la colonne du dataframe. L'opération est faite inplace (le DataFrame est modifié directement sans être retourné)\n",
    "    @param dataframe : Le dataframe sur lequel on veut supprimer la colonne\n",
    "    @param nom_col : La colonne que l'on veut supprimer\n",
    "    \"\"\"\n",
    "    dataframe.drop([nom_col], inplace = True, axis = 1)\n",
    "    return dataframe"
   ]
  },
  {
   "cell_type": "code",
   "execution_count": 367,
   "id": "94639d85",
   "metadata": {},
   "outputs": [
    {
     "data": {
      "text/html": [
       "<div>\n",
       "<style scoped>\n",
       "    .dataframe tbody tr th:only-of-type {\n",
       "        vertical-align: middle;\n",
       "    }\n",
       "\n",
       "    .dataframe tbody tr th {\n",
       "        vertical-align: top;\n",
       "    }\n",
       "\n",
       "    .dataframe thead th {\n",
       "        text-align: right;\n",
       "    }\n",
       "</style>\n",
       "<table border=\"1\" class=\"dataframe\">\n",
       "  <thead>\n",
       "    <tr style=\"text-align: right;\">\n",
       "      <th></th>\n",
       "      <th>url</th>\n",
       "      <th>star_count</th>\n",
       "      <th>fork_count</th>\n",
       "      <th>ML</th>\n",
       "    </tr>\n",
       "  </thead>\n",
       "  <tbody>\n",
       "    <tr>\n",
       "      <th>0</th>\n",
       "      <td>https://github.com/encode/django-rest-framewor...</td>\n",
       "      <td>28071</td>\n",
       "      <td>6798</td>\n",
       "      <td>False</td>\n",
       "    </tr>\n",
       "    <tr>\n",
       "      <th>1</th>\n",
       "      <td>https://github.com/adobe/OSAS.git</td>\n",
       "      <td>152</td>\n",
       "      <td>26</td>\n",
       "      <td>True</td>\n",
       "    </tr>\n",
       "    <tr>\n",
       "      <th>2</th>\n",
       "      <td>https://github.com/xp4xbox/Python-Backdoor.git</td>\n",
       "      <td>706</td>\n",
       "      <td>207</td>\n",
       "      <td>False</td>\n",
       "    </tr>\n",
       "    <tr>\n",
       "      <th>3</th>\n",
       "      <td>https://github.com/sktime/sktime.git</td>\n",
       "      <td>7678</td>\n",
       "      <td>1307</td>\n",
       "      <td>True</td>\n",
       "    </tr>\n",
       "    <tr>\n",
       "      <th>4</th>\n",
       "      <td>https://github.com/RobertoFalconi/GameRatingsP...</td>\n",
       "      <td>5</td>\n",
       "      <td>2</td>\n",
       "      <td>True</td>\n",
       "    </tr>\n",
       "    <tr>\n",
       "      <th>...</th>\n",
       "      <td>...</td>\n",
       "      <td>...</td>\n",
       "      <td>...</td>\n",
       "      <td>...</td>\n",
       "    </tr>\n",
       "    <tr>\n",
       "      <th>184</th>\n",
       "      <td>https://github.com/lazyprogrammer/machine_lear...</td>\n",
       "      <td>8260</td>\n",
       "      <td>6314</td>\n",
       "      <td>True</td>\n",
       "    </tr>\n",
       "    <tr>\n",
       "      <th>185</th>\n",
       "      <td>https://github.com/DataGod9000/Naruto-OpenCV-M...</td>\n",
       "      <td>4</td>\n",
       "      <td>1</td>\n",
       "      <td>True</td>\n",
       "    </tr>\n",
       "    <tr>\n",
       "      <th>186</th>\n",
       "      <td>https://github.com/httpie/cli.git</td>\n",
       "      <td>33254</td>\n",
       "      <td>3675</td>\n",
       "      <td>False</td>\n",
       "    </tr>\n",
       "    <tr>\n",
       "      <th>187</th>\n",
       "      <td>https://github.com/keon/algorithms.git</td>\n",
       "      <td>23909</td>\n",
       "      <td>4589</td>\n",
       "      <td>False</td>\n",
       "    </tr>\n",
       "    <tr>\n",
       "      <th>188</th>\n",
       "      <td>https://github.com/shushrutsharma/Data-Structu...</td>\n",
       "      <td>388</td>\n",
       "      <td>150</td>\n",
       "      <td>False</td>\n",
       "    </tr>\n",
       "  </tbody>\n",
       "</table>\n",
       "<p>189 rows × 4 columns</p>\n",
       "</div>"
      ],
      "text/plain": [
       "                                                   url  star_count  \\\n",
       "0    https://github.com/encode/django-rest-framewor...       28071   \n",
       "1                    https://github.com/adobe/OSAS.git         152   \n",
       "2       https://github.com/xp4xbox/Python-Backdoor.git         706   \n",
       "3                 https://github.com/sktime/sktime.git        7678   \n",
       "4    https://github.com/RobertoFalconi/GameRatingsP...           5   \n",
       "..                                                 ...         ...   \n",
       "184  https://github.com/lazyprogrammer/machine_lear...        8260   \n",
       "185  https://github.com/DataGod9000/Naruto-OpenCV-M...           4   \n",
       "186                  https://github.com/httpie/cli.git       33254   \n",
       "187             https://github.com/keon/algorithms.git       23909   \n",
       "188  https://github.com/shushrutsharma/Data-Structu...         388   \n",
       "\n",
       "     fork_count     ML  \n",
       "0          6798  False  \n",
       "1            26   True  \n",
       "2           207  False  \n",
       "3          1307   True  \n",
       "4             2   True  \n",
       "..          ...    ...  \n",
       "184        6314   True  \n",
       "185           1   True  \n",
       "186        3675  False  \n",
       "187        4589  False  \n",
       "188         150  False  \n",
       "\n",
       "[189 rows x 4 columns]"
      ]
     },
     "execution_count": 367,
     "metadata": {},
     "output_type": "execute_result"
    }
   ],
   "source": [
    "# TODO Supprimer la colonne Category\n",
    "supprimer_colonne(df, \"Category\")"
   ]
  },
  {
   "cell_type": "code",
   "execution_count": 368,
   "id": "af28c5d3",
   "metadata": {},
   "outputs": [
    {
     "name": "stdout",
     "output_type": "stream",
     "text": [
      "                                                 url  star_count  fork_count  \\\n",
      "0  https://github.com/encode/django-rest-framewor...       28071        6798   \n",
      "1                  https://github.com/adobe/OSAS.git         152          26   \n",
      "2     https://github.com/xp4xbox/Python-Backdoor.git         706         207   \n",
      "3               https://github.com/sktime/sktime.git        7678        1307   \n",
      "4  https://github.com/RobertoFalconi/GameRatingsP...           5           2   \n",
      "\n",
      "      ML  \n",
      "0  False  \n",
      "1   True  \n",
      "2  False  \n",
      "3   True  \n",
      "4   True  \n"
     ]
    }
   ],
   "source": [
    "# TODO Afficher les 5 premières lignes pour vérifier le chargement\n",
    "print(df.loc[[0,1,2,3,4]])"
   ]
  },
  {
   "cell_type": "code",
   "execution_count": 369,
   "id": "5ce0f3e9",
   "metadata": {},
   "outputs": [],
   "source": [
    "# TODO Créer la fonction renommer_colonne qui change le nom d'une colonne existante avec celle passée en paramètre\n",
    "def renommer_colonne(dataframe, nom_colonne, nouveau_nom_colonne):\n",
    "    \"\"\"\n",
    "    Renomme la colonne passée en paramètre. L'opération est faite inplace (le DataFrame est modifié directement sans être retourné)\n",
    "    @param dataframe: Le dataframe\n",
    "    @param nom_colonne : Le nom de la colonne qu'on veut changer\n",
    "    @param nouveau_nom_colonne : Le nouveau de la colonne\n",
    "    \"\"\"\n",
    "    dataframe.rename({nom_colonne : nouveau_nom_colonne}, axis = 1, inplace = True)\n",
    "    return dataframe"
   ]
  },
  {
   "cell_type": "code",
   "execution_count": 370,
   "id": "e1bd17b4",
   "metadata": {},
   "outputs": [
    {
     "data": {
      "text/html": [
       "<div>\n",
       "<style scoped>\n",
       "    .dataframe tbody tr th:only-of-type {\n",
       "        vertical-align: middle;\n",
       "    }\n",
       "\n",
       "    .dataframe tbody tr th {\n",
       "        vertical-align: top;\n",
       "    }\n",
       "\n",
       "    .dataframe thead th {\n",
       "        text-align: right;\n",
       "    }\n",
       "</style>\n",
       "<table border=\"1\" class=\"dataframe\">\n",
       "  <thead>\n",
       "    <tr style=\"text-align: right;\">\n",
       "      <th></th>\n",
       "      <th>url</th>\n",
       "      <th>stars</th>\n",
       "      <th>forks</th>\n",
       "      <th>ML</th>\n",
       "    </tr>\n",
       "  </thead>\n",
       "  <tbody>\n",
       "    <tr>\n",
       "      <th>0</th>\n",
       "      <td>https://github.com/encode/django-rest-framewor...</td>\n",
       "      <td>28071</td>\n",
       "      <td>6798</td>\n",
       "      <td>False</td>\n",
       "    </tr>\n",
       "    <tr>\n",
       "      <th>1</th>\n",
       "      <td>https://github.com/adobe/OSAS.git</td>\n",
       "      <td>152</td>\n",
       "      <td>26</td>\n",
       "      <td>True</td>\n",
       "    </tr>\n",
       "    <tr>\n",
       "      <th>2</th>\n",
       "      <td>https://github.com/xp4xbox/Python-Backdoor.git</td>\n",
       "      <td>706</td>\n",
       "      <td>207</td>\n",
       "      <td>False</td>\n",
       "    </tr>\n",
       "    <tr>\n",
       "      <th>3</th>\n",
       "      <td>https://github.com/sktime/sktime.git</td>\n",
       "      <td>7678</td>\n",
       "      <td>1307</td>\n",
       "      <td>True</td>\n",
       "    </tr>\n",
       "    <tr>\n",
       "      <th>4</th>\n",
       "      <td>https://github.com/RobertoFalconi/GameRatingsP...</td>\n",
       "      <td>5</td>\n",
       "      <td>2</td>\n",
       "      <td>True</td>\n",
       "    </tr>\n",
       "    <tr>\n",
       "      <th>...</th>\n",
       "      <td>...</td>\n",
       "      <td>...</td>\n",
       "      <td>...</td>\n",
       "      <td>...</td>\n",
       "    </tr>\n",
       "    <tr>\n",
       "      <th>184</th>\n",
       "      <td>https://github.com/lazyprogrammer/machine_lear...</td>\n",
       "      <td>8260</td>\n",
       "      <td>6314</td>\n",
       "      <td>True</td>\n",
       "    </tr>\n",
       "    <tr>\n",
       "      <th>185</th>\n",
       "      <td>https://github.com/DataGod9000/Naruto-OpenCV-M...</td>\n",
       "      <td>4</td>\n",
       "      <td>1</td>\n",
       "      <td>True</td>\n",
       "    </tr>\n",
       "    <tr>\n",
       "      <th>186</th>\n",
       "      <td>https://github.com/httpie/cli.git</td>\n",
       "      <td>33254</td>\n",
       "      <td>3675</td>\n",
       "      <td>False</td>\n",
       "    </tr>\n",
       "    <tr>\n",
       "      <th>187</th>\n",
       "      <td>https://github.com/keon/algorithms.git</td>\n",
       "      <td>23909</td>\n",
       "      <td>4589</td>\n",
       "      <td>False</td>\n",
       "    </tr>\n",
       "    <tr>\n",
       "      <th>188</th>\n",
       "      <td>https://github.com/shushrutsharma/Data-Structu...</td>\n",
       "      <td>388</td>\n",
       "      <td>150</td>\n",
       "      <td>False</td>\n",
       "    </tr>\n",
       "  </tbody>\n",
       "</table>\n",
       "<p>189 rows × 4 columns</p>\n",
       "</div>"
      ],
      "text/plain": [
       "                                                   url  stars  forks     ML\n",
       "0    https://github.com/encode/django-rest-framewor...  28071   6798  False\n",
       "1                    https://github.com/adobe/OSAS.git    152     26   True\n",
       "2       https://github.com/xp4xbox/Python-Backdoor.git    706    207  False\n",
       "3                 https://github.com/sktime/sktime.git   7678   1307   True\n",
       "4    https://github.com/RobertoFalconi/GameRatingsP...      5      2   True\n",
       "..                                                 ...    ...    ...    ...\n",
       "184  https://github.com/lazyprogrammer/machine_lear...   8260   6314   True\n",
       "185  https://github.com/DataGod9000/Naruto-OpenCV-M...      4      1   True\n",
       "186                  https://github.com/httpie/cli.git  33254   3675  False\n",
       "187             https://github.com/keon/algorithms.git  23909   4589  False\n",
       "188  https://github.com/shushrutsharma/Data-Structu...    388    150  False\n",
       "\n",
       "[189 rows x 4 columns]"
      ]
     },
     "execution_count": 370,
     "metadata": {},
     "output_type": "execute_result"
    }
   ],
   "source": [
    "# TODO Renommer les colonnes star_count et fork_count par stars et forks respectivement\n",
    "renommer_colonne(df, \"star_count\", \"stars\")\n",
    "renommer_colonne(df, \"fork_count\", \"forks\")\n"
   ]
  },
  {
   "cell_type": "code",
   "execution_count": 371,
   "id": "91c1a0b6",
   "metadata": {},
   "outputs": [
    {
     "name": "stdout",
     "output_type": "stream",
     "text": [
      "                                                 url  stars  forks     ML\n",
      "0  https://github.com/encode/django-rest-framewor...  28071   6798  False\n",
      "1                  https://github.com/adobe/OSAS.git    152     26   True\n",
      "2     https://github.com/xp4xbox/Python-Backdoor.git    706    207  False\n",
      "3               https://github.com/sktime/sktime.git   7678   1307   True\n",
      "4  https://github.com/RobertoFalconi/GameRatingsP...      5      2   True\n"
     ]
    }
   ],
   "source": [
    "# TODO Afficher les 5 premières lignes pour vérifier le chargement\n",
    "print(df.loc[[0,1,2,3,4]])"
   ]
  },
  {
   "cell_type": "markdown",
   "id": "1acc153c",
   "metadata": {},
   "source": [
    "## 2.Calculer les statistiques"
   ]
  },
  {
   "cell_type": "code",
   "execution_count": 372,
   "id": "cb284630",
   "metadata": {},
   "outputs": [],
   "source": [
    "# TODO Créer la fonction calculer_moyenne qui calcule la moyenne de la colonne passée en paramètre et\n",
    "# retourne cette moyenne\n",
    "def calculer_moyenne(dataframe, nom_col):\n",
    "    \"\"\"\n",
    "    Calcule la moyenne de la colonne passée en paramètre et retourne cette moyenne\n",
    "    @param dataframe: Le dataframe\n",
    "    @param nom_col : la colonne dont on veut calculer la moyenne\n",
    "    @return: la moyenne calculée\n",
    "    \"\"\"\n",
    "    return dataframe[nom_col].mean()"
   ]
  },
  {
   "cell_type": "code",
   "execution_count": 373,
   "id": "258c48c3",
   "metadata": {},
   "outputs": [],
   "source": [
    "# TODO Calculer la moyenne d'étoiles\n",
    "moy_etoile = calculer_moyenne(df, \"stars\")\n",
    "\n",
    "# TODO Calculer la moyenne des forks\n",
    "moy_forks = calculer_moyenne(df, \"forks\")"
   ]
  },
  {
   "cell_type": "code",
   "execution_count": 374,
   "id": "b23faa11",
   "metadata": {},
   "outputs": [
    {
     "name": "stdout",
     "output_type": "stream",
     "text": [
      "Nombre moyen d'étoiles (global): 11379.17\n",
      "Nombre moyen de forks (global): 1953.44\n"
     ]
    }
   ],
   "source": [
    "# TODO Afficher les moyennes deux chiffres après la virgule\n",
    "print(f\"Nombre moyen d'étoiles (global): {moy_etoile:.2f}\")\n",
    "print(f\"Nombre moyen de forks (global): {moy_forks:.2f}\")"
   ]
  },
  {
   "cell_type": "code",
   "execution_count": 375,
   "id": "743ec516",
   "metadata": {},
   "outputs": [],
   "source": [
    "# TODO Créer la fonction calculer_mediane qui calcule la médiane de la colonne passée en parametre et\n",
    "# retourne cette médiane\n",
    "def calculer_mediane(dataframe, nom_col):\n",
    "    \"\"\"\n",
    "    Calcule la médiane de la colonne passée en paramètre et retourne cette médiane\n",
    "    @param dataframe: Le dataframe\n",
    "    @param nom_col : la colonne dont on veut calculer la médiane\n",
    "    @return: la médiane calculée\n",
    "    \"\"\"\n",
    "    return dataframe[nom_col].median()"
   ]
  },
  {
   "cell_type": "code",
   "execution_count": 376,
   "id": "30c7a48b",
   "metadata": {},
   "outputs": [],
   "source": [
    "# TODO Calculer la médiane des étoiles\n",
    "median_etoile = calculer_mediane(df, \"stars\")\n",
    "\n",
    "# TODO Calculer la médiane des forks\n",
    "median_forks = calculer_mediane(df, \"forks\")"
   ]
  },
  {
   "cell_type": "code",
   "execution_count": 377,
   "id": "ab0aa8a3",
   "metadata": {},
   "outputs": [
    {
     "name": "stdout",
     "output_type": "stream",
     "text": [
      "Médiane du nombre d'étoiles: 479.00\n",
      "Médiane du nombre de forks: 150.00\n"
     ]
    }
   ],
   "source": [
    "# TODO Afficher les médianes deux chiffres après la virgule\n",
    "print(f\"Médiane du nombre d'étoiles: {median_etoile:.2f}\")\n",
    "print(f\"Médiane du nombre de forks: {median_forks:.2f}\")"
   ]
  },
  {
   "cell_type": "code",
   "execution_count": 378,
   "id": "b71f8899",
   "metadata": {},
   "outputs": [],
   "source": [
    "# TODO Créer la fonction calculer_ecart_type qui calcule l'écart-type de la colonne passée en paramètre et\n",
    "# retourne cette écart-type\n",
    "def calculer_ecart_type(dataframe, nom_col):\n",
    "    \"\"\"\n",
    "    Calcule l'ecart-type de la colonne passée en paramètre et retourne la valeur\n",
    "    @param dataframe: Le dataframe\n",
    "    @param nom_col: la colonne dont on veut calculer l'écart-type\n",
    "    @return l'écart-type calculé\n",
    "    \"\"\"\n",
    "    return dataframe[nom_col].std()"
   ]
  },
  {
   "cell_type": "code",
   "execution_count": 379,
   "id": "2255f596",
   "metadata": {},
   "outputs": [],
   "source": [
    "# TODO Calculer l'écart-type des étoiles\n",
    "dev_etoile = calculer_ecart_type(df, \"stars\")\n",
    "\n",
    "# TODO Caculer l'écart-type des forks\n",
    "dev_forks = calculer_ecart_type(df, \"forks\")"
   ]
  },
  {
   "cell_type": "code",
   "execution_count": 380,
   "id": "d1de7bf8",
   "metadata": {},
   "outputs": [
    {
     "name": "stdout",
     "output_type": "stream",
     "text": [
      "Écart-type du nombre d'étoiles: 30900.20\n",
      "Écart-type du nombre de forks: 5223.86\n"
     ]
    }
   ],
   "source": [
    "# TODO Afficher les écart-types deux chiffres après la virgule\n",
    "print(f\"Écart-type du nombre d'étoiles: {dev_etoile:.2f}\")\n",
    "print(f\"Écart-type du nombre de forks: {dev_forks:.2f}\")"
   ]
  },
  {
   "cell_type": "markdown",
   "id": "234bf069",
   "metadata": {},
   "source": [
    "## 3.Comparaison des projets IA et Non-IA"
   ]
  },
  {
   "cell_type": "code",
   "execution_count": 381,
   "id": "5bfca316",
   "metadata": {},
   "outputs": [],
   "source": [
    "# TODO Creer la fonction filtrer_dataframe\n",
    "def filtrer_dataframe(dataframe, nom_col, valeur_filtrage):\n",
    "    \"\"\"\n",
    "    Filtre le dataframe en fonction d'une colonne  et de la valeur de filtrage, et retourne le nouveau dataframe\n",
    "    @param dataframe : Le dataframe a filtrer\n",
    "    @param nom_col : Le nom de la colonne à filtrer\n",
    "    @param valeur_filtrage : valeur de filtrage\n",
    "    @return: le dataframe filtré\n",
    "    \"\"\"\n",
    "    return dataframe[dataframe[nom_col] == valeur_filtrage]"
   ]
  },
  {
   "cell_type": "code",
   "execution_count": 382,
   "id": "4844cc35",
   "metadata": {},
   "outputs": [],
   "source": [
    "# TODO Récupérer tous les projets qui sont de type IA (ML)\n",
    "ai_projects = filtrer_dataframe(df, \"ML\", True)\n",
    "\n",
    "# TODO Récupérer tous les projets qui ne sont pas de type non-IA (ML)\n",
    "non_ai_projects = filtrer_dataframe(df, \"ML\", False)"
   ]
  },
  {
   "cell_type": "code",
   "execution_count": 383,
   "id": "98c615cd",
   "metadata": {
    "scrolled": false
   },
   "outputs": [
    {
     "name": "stdout",
     "output_type": "stream",
     "text": [
      "                                                 url  stars  forks    ML\n",
      "1                  https://github.com/adobe/OSAS.git    152     26  True\n",
      "3               https://github.com/sktime/sktime.git   7678   1307  True\n",
      "4  https://github.com/RobertoFalconi/GameRatingsP...      5      2  True\n",
      "5   https://github.com/hariharan849/DeepLearning.git      4      6  True\n",
      "6  https://github.com/devAmoghS/Machine-Learning-...   1176    185  True\n"
     ]
    }
   ],
   "source": [
    "# TODO Afficher les 5 cinq premières lignes pour le dataframe des projets de machine learning\n",
    "print(ai_projects.head(5))"
   ]
  },
  {
   "cell_type": "code",
   "execution_count": 384,
   "id": "9cbf37f2",
   "metadata": {},
   "outputs": [
    {
     "name": "stdout",
     "output_type": "stream",
     "text": [
      "                                                 url  stars  forks     ML\n",
      "0  https://github.com/encode/django-rest-framewor...  28071   6798  False\n",
      "2     https://github.com/xp4xbox/Python-Backdoor.git    706    207  False\n",
      "7             https://github.com/soimort/you-get.git  49865   9360  False\n",
      "8          https://github.com/pylint-dev/astroid.git    527    273  False\n",
      "9  https://github.com/aws-samples/serverless-patt...   1541    904  False\n"
     ]
    }
   ],
   "source": [
    "# TODO Afficher les 5 cinq premières lignes pour le dataframe des projets qui ne sont pas de machine learning\n",
    "print(non_ai_projects.head(5))"
   ]
  },
  {
   "cell_type": "code",
   "execution_count": 385,
   "id": "873b7c25",
   "metadata": {},
   "outputs": [],
   "source": [
    "# TODO Calculer les moyennes des étoiles pour les projets IA et les projets non-IA\n",
    "moy_etoile_ai = calculer_moyenne(ai_projects, \"stars\")\n",
    "moy_etoile_non_ai = calculer_moyenne(non_ai_projects, \"stars\")\n"
   ]
  },
  {
   "cell_type": "code",
   "execution_count": 386,
   "id": "01dba831",
   "metadata": {},
   "outputs": [
    {
     "name": "stdout",
     "output_type": "stream",
     "text": [
      "3456.99\n",
      "19217.97\n"
     ]
    }
   ],
   "source": [
    "# TODO Afficher les moyennes des étoiles pour chaque type de projet\n",
    "print(f\"{moy_etoile_ai:.2f}\")\n",
    "print(f\"{moy_etoile_non_ai:.2f}\")"
   ]
  },
  {
   "cell_type": "markdown",
   "id": "87e3d379",
   "metadata": {},
   "source": [
    "## 4 Visualisation des donnees"
   ]
  },
  {
   "cell_type": "code",
   "execution_count": 387,
   "id": "551de8d2",
   "metadata": {},
   "outputs": [
    {
     "data": {
      "image/png": "[encoded data removed]",
      "text/plain": [
       "<Figure size 1000x600 with 1 Axes>"
      ]
     },
     "metadata": {},
     "output_type": "display_data"
    }
   ],
   "source": [
    "# TODO Faire le Scatter plot des étoiles vs forks avec distinction IA et non IA\n",
    "# TODO 1. Votre figure doit avoir la taille (10, 6) utiliser la librairie Matplotlib\n",
    "# TODO 2. Creer votre nuage de points en utilisant seaborn\n",
    "# TODO 3. Vous devez limitez vos échelles a 50 000 pour l'axe des x et 10 000 pour l'axe des y\n",
    "# TODO 4. Donnez les légendes suivantes:\n",
    "#     - Titre: Relation entre les forks et les étoiles (IA vs non-IA)\"\n",
    "#     - Titre de l'axe des x: Nombre d'étoiles\n",
    "#     - Titre de l'axe des y: Nombre de forks\n",
    "#     - Legende du graphe: Utilise IA ?\n",
    "\n",
    "\n",
    "plt.figure(figsize =(10, 6))\n",
    "\n",
    "sns.scatterplot(data=non_ai_projects, x=\"stars\", y=\"forks\", label = \"False\", alpha= 0.5).set(title=\"Relation entre les forks et les étoiles (IA vs non-IA)\")\n",
    "sns.scatterplot(data=ai_projects, x=\"stars\", y=\"forks\", label = \"True\", alpha = 0.5)\n",
    "\n",
    "plt.xlabel(\"Nombre d'étoiles\")\n",
    "plt.ylabel('Nombre de forks')\n",
    "\n",
    "plt.legend(title=\"Utilise AI?\")\n",
    " \n",
    "plt.xlim((0, 50000))  \n",
    "plt.ylim((0, 10000))\n",
    "\n",
    "plt.show()\n",
    "\n"
   ]
  },
  {
   "cell_type": "code",
   "execution_count": 402,
   "id": "ec674494",
   "metadata": {},
   "outputs": [
    {
     "data": {
      "image/png": "[encoded data removed]",
      "text/plain": [
       "<Figure size 1000x600 with 1 Axes>"
      ]
     },
     "metadata": {},
     "output_type": "display_data"
    }
   ],
   "source": [
    "# TODO Faite un Diagramme en barres comparatives (diagramme de bande)\n",
    "# TODO 1. Votre figure doit avoir la taille (10, 6)\n",
    "# TODO 2. Utiliser seaborn pour faire votre diagramme\n",
    "# 2. Donnez les legendes suivantes:\n",
    "#     - Titre: Comparaison du nombre moyen d'étoiles (IA vs non-IA)\"\n",
    "#     - Titre de l'axe des y: 'Nombre moyen d'étoiles'\n",
    "\n",
    "\n",
    "# Plot using Seaborn\n",
    "plt.figure(figsize=(10, 6))\n",
    "sns.barplot(x=[\"Avec IA\"], y=[moy_etoile_ai], color = \"#5ebd88\", alpha = 0.7)\n",
    "sns.barplot(x=[\"Sans-IA\"], y=[moy_etoile_non_ai], color = \"#e28743\", alpha = 0.7).set(title=\"Comparaison du nombre moyen d'étoiles (IA vs non-IA)\")\n",
    "\n",
    "\n",
    "plt.ylabel(\"Nombre moyen d'étoiles\")\n",
    "plt.ylim((0, 20000))\n",
    "plt.show()\n",
    "\n",
    "\n"
   ]
  },
  {
   "cell_type": "markdown",
   "id": "49981104",
   "metadata": {},
   "source": [
    "## 5. Questions "
   ]
  },
  {
   "cell_type": "code",
   "execution_count": 74,
   "id": "8469ba84",
   "metadata": {},
   "outputs": [],
   "source": [
    "# TODO Question 1: En vous basant sur vos graphes précédent, faites deux observations ? (maximum deux observations)\n",
    "\"\"\" Une des premieres observations que l'on peut faire est que les projets sans-IA possèdent en moyenne beaucoup plus d'étoiles que les projets IA.\n",
    "    Une deuxième observation serait qu'il y a plus de projets qui ont été forks parmis les projets non-IA que les projets IA.\n",
    "\"\"\"\n",
    "\n",
    "\n",
    "# TODO Question 2: Toujours en vous basant sur votre affichage précédent, \n",
    "# dans quel type de projet le langage Python est-il plus populaire ? Pourquoi?\n",
    "\"\"\" Selon les données, les types de projets les plus populaires en Python sont les projets ne comportant pas d'intelligence artificielle. \n",
    "    On peut facilement s'en apercevoir si l'on regarde le graphique de comparaison du nombre d'étoiles en moyenne pour un projets avec ou sans-IA. \n",
    "    Un projets sans-IA aura en moyenne environ 19000 étoiles tandis qu'un projets avec IA n'en aura environ qu'en moyenne 3400. \n",
    "\"\"\""
   ]
  },
  {
   "cell_type": "markdown",
   "id": "b8fdff73",
   "metadata": {},
   "source": [
    "1. Une des premieres observations que l'on peut faire est que les projets sans-IA possèdent en moyenne beaucoup plus d'étoiles que les projets IA.\n",
    "   Une deuxième observation serait qu'il y a plus de projets qui ont été forks parmis les projets non-IA que les projets IA.\n",
    "\n",
    "2. Selon les données, les types de projets les plus populaires en Python sont les projets ne comportant pas d'intelligence artificielle. \n",
    "   On peut facilement s'en apercevoir si l'on regarde le graphique de comparaison du nombre d'étoiles en moyenne pour un projets avec ou sans-IA. \n",
    "   Un projets sans-IA aura en moyenne environ 19000 étoiles tandis qu'un projets avec IA n'en aura environ qu'en moyenne 3400. "
   ]
  },
  {
   "cell_type": "markdown",
   "id": "48260510",
   "metadata": {},
   "source": [
    "# Partie Bonus"
   ]
  },
  {
   "cell_type": "code",
   "execution_count": null,
   "id": "b3cb9640",
   "metadata": {},
   "outputs": [],
   "source": [
    "# TODO Est-ce que les résultats obtenus concordent avec ceux que vous avez obtenus précédemment ? Pourquoi ?\n",
    "# Justifiez votre réponse en vous basant sur les résultats que vous avez obtenus."
   ]
  }
 ],
 "metadata": {
  "kernelspec": {
   "display_name": ".venv",
   "language": "python",
   "name": "python3"
  },
  "language_info": {
   "codemirror_mode": {
    "name": "ipython",
    "version": 3
   },
   "file_extension": ".py",
   "mimetype": "text/x-python",
   "name": "python",
   "nbconvert_exporter": "python",
   "pygments_lexer": "ipython3",
   "version": "3.12.3"
  }
 },
 "nbformat": 4,
 "nbformat_minor": 5
}

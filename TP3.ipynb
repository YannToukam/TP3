{
 "cells": [
  {
   "cell_type": "code",
   "execution_count": 40,
   "id": "d9e599c3",
   "metadata": {},
   "outputs": [],
   "source": [
    "import pandas as pd\n",
    "import matplotlib.pyplot as plt\n",
    "import seaborn as sns"
   ]
  },
  {
   "cell_type": "markdown",
   "id": "060f4802",
   "metadata": {},
   "source": [
    "# 1. Preparation des donnees"
   ]
  },
  {
   "cell_type": "code",
   "execution_count": 48,
   "id": "eeaf5ccf",
   "metadata": {},
   "outputs": [],
   "source": [
    "# TODO Completer la fonction charger_donnees\n",
    "def charger_donnees(file_path):\n",
    "    \"\"\"\n",
    "    Lire le fichier csv passé en paramètre et retourner un DataFrame contenant les données du fichier csv.\n",
    "    @param file_path : le chemin vers le fichier csv\n",
    "    @return: DataFrame contenant les données du fichier csv.\n",
    "    \"\"\"\n",
    "    pass"
   ]
  },
  {
   "cell_type": "code",
   "execution_count": 49,
   "id": "133b88ba",
   "metadata": {},
   "outputs": [],
   "source": [
    "# TODO Charger le fichier csv de données"
   ]
  },
  {
   "cell_type": "code",
   "execution_count": 50,
   "id": "606e3bc8",
   "metadata": {},
   "outputs": [],
   "source": [
    "# TODO Afficher les 5 premières lignes pour vérifier le chargement"
   ]
  },
  {
   "cell_type": "code",
   "execution_count": 51,
   "id": "c2b0b354",
   "metadata": {},
   "outputs": [],
   "source": [
    "# TODO Créer la fonction supprimer_colonne qui supprime la colonne que l'utilisateur souhaite supprimer\n",
    "def supprimer_colonne(dataframe,  nom_col):\n",
    "    \"\"\"\n",
    "    Supprime la colonne du dataframe. L'opération est faite inplace (le DataFrame est modifié directement sans être retourné)\n",
    "    @param dataframe : Le dataframe sur lequel on veut supprimer la colonne\n",
    "    @param nom_col : La colonne que l'on veut supprimer\n",
    "    \"\"\"\n",
    "    pass"
   ]
  },
  {
   "cell_type": "code",
   "execution_count": 52,
   "id": "94639d85",
   "metadata": {},
   "outputs": [],
   "source": [
    "# TODO Supprimer la colonne Category"
   ]
  },
  {
   "cell_type": "code",
   "execution_count": 53,
   "id": "af28c5d3",
   "metadata": {},
   "outputs": [],
   "source": [
    "# TODO Afficher les 5 premières lignes pour vérifier le chargement"
   ]
  },
  {
   "cell_type": "code",
   "execution_count": 54,
   "id": "5ce0f3e9",
   "metadata": {},
   "outputs": [],
   "source": [
    "# TODO Créer la fonction renommer_colonne qui change le nom d'une colonne existante avec celle passée en paramètre\n",
    "def renommer_colonne(dataframe, nom_colonne, nouveau_nom_colonne):\n",
    "    \"\"\"\n",
    "    Renomme la colonne passée en paramètre. L'opération est faite inplace (le DataFrame est modifié directement sans être retourné)\n",
    "    @param dataframe: Le dataframe\n",
    "    @param nom_colonne : Le nom de la colonne qu'on veut changer\n",
    "    @param nouveau_nom_colonne : Le nouveau de la colonne\n",
    "    \"\"\"\n",
    "    pass"
   ]
  },
  {
   "cell_type": "code",
   "execution_count": 55,
   "id": "e1bd17b4",
   "metadata": {},
   "outputs": [],
   "source": [
    "# TODO Renommer les colonnes star_count et fork_count par stars et forks respectivement"
   ]
  },
  {
   "cell_type": "code",
   "execution_count": 56,
   "id": "91c1a0b6",
   "metadata": {},
   "outputs": [],
   "source": [
    "# TODO Afficher les 5 premières lignes pour vérifier le chargement"
   ]
  },
  {
   "cell_type": "markdown",
   "id": "1acc153c",
   "metadata": {},
   "source": [
    "## 2.Calculer les statistiques"
   ]
  },
  {
   "cell_type": "code",
   "execution_count": 57,
   "id": "cb284630",
   "metadata": {},
   "outputs": [],
   "source": [
    "# TODO Créer la fonction calculer_moyenne qui calcule la moyenne de la colonne passée en paramètre et\n",
    "# retourne cette moyenne\n",
    "def calculer_moyenne(dataframe, nom_col):\n",
    "    \"\"\"\n",
    "    Calcule la moyenne de la colonne passée en paramètre et retourne cette moyenne\n",
    "    @param dataframe: Le dataframe\n",
    "    @param nom_col : la colonne dont on veut calculer la moyenne\n",
    "    @return: la moyenne calculée\n",
    "    \"\"\"\n",
    "    pass"
   ]
  },
  {
   "cell_type": "code",
   "execution_count": 58,
   "id": "258c48c3",
   "metadata": {},
   "outputs": [],
   "source": [
    "# TODO Calculer la moyenne d'étoiles\n",
    "\n",
    "# TODO Calculer la moyenne des forks"
   ]
  },
  {
   "cell_type": "code",
   "execution_count": 59,
   "id": "b23faa11",
   "metadata": {},
   "outputs": [],
   "source": [
    "# TODO Afficher les moyennes deux chiffres après la virgule"
   ]
  },
  {
   "cell_type": "code",
   "execution_count": 60,
   "id": "743ec516",
   "metadata": {},
   "outputs": [],
   "source": [
    "# TODO Créer la fonction calculer_mediane qui calcule la médiane de la colonne passée en parametre et\n",
    "# retourne cette médiane\n",
    "def calculer_mediane(dataframe, nom_col):\n",
    "    \"\"\"\n",
    "    Calcule la médiane de la colonne passée en paramètre et retourne cette médiane\n",
    "    @param dataframe: Le dataframe\n",
    "    @param nom_col : la colonne dont on veut calculer la médiane\n",
    "    @return: la médiane calculée\n",
    "    \"\"\"\n",
    "    pass"
   ]
  },
  {
   "cell_type": "code",
   "execution_count": 61,
   "id": "30c7a48b",
   "metadata": {},
   "outputs": [],
   "source": [
    "# TODO Calculer la médiane des étoiles\n",
    "\n",
    "# TODO Calculer la médiane des forks"
   ]
  },
  {
   "cell_type": "code",
   "execution_count": 62,
   "id": "ab0aa8a3",
   "metadata": {},
   "outputs": [],
   "source": [
    "# TODO Afficher les médianes deux chiffres après la virgule"
   ]
  },
  {
   "cell_type": "code",
   "execution_count": 63,
   "id": "b71f8899",
   "metadata": {},
   "outputs": [],
   "source": [
    "# TODO Créer la fonction calculer_ecart_type qui calcule l'écart-type de la colonne passée en paramètre et\n",
    "# retourne cette écart-type\n",
    "def calculer_ecart_type(dataframe, nom_col):\n",
    "    \"\"\"\n",
    "    Calcule l'ecart-type de la colonne passée en paramètre et retourne la valeur\n",
    "    @param dataframe: Le dataframe\n",
    "    @param nom_col: la colonne dont on veut calculer l'écart-type\n",
    "    @return l'écart-type calculé\n",
    "    \"\"\"\n",
    "    pass"
   ]
  },
  {
   "cell_type": "code",
   "execution_count": 64,
   "id": "2255f596",
   "metadata": {},
   "outputs": [],
   "source": [
    "# TODO Calculer l'écart-type des étoiles\n",
    "\n",
    "# TODO Caculer l'écart-type des forks"
   ]
  },
  {
   "cell_type": "code",
   "execution_count": 65,
   "id": "d1de7bf8",
   "metadata": {},
   "outputs": [],
   "source": [
    "# TODO Afficher les écart-types deux chiffres après la virgule"
   ]
  },
  {
   "cell_type": "markdown",
   "id": "234bf069",
   "metadata": {},
   "source": [
    "## 3.Comparaison des projets IA et Non-IA"
   ]
  },
  {
   "cell_type": "code",
   "execution_count": 66,
   "id": "5bfca316",
   "metadata": {},
   "outputs": [],
   "source": [
    "# TODO Creer la fonction filtrer_dataframe\n",
    "def filtrer_dataframe(dataframe, nom_col, valeur_filtrage):\n",
    "    \"\"\"\n",
    "    Filtre le dataframe en fonction d'une colonne  et de la valeur de filtrage, et retourne le nouveau dataframe\n",
    "    @param dataframe : Le dataframe a filtrer\n",
    "    @param nom_col : Le nom de la colonne à filtrer\n",
    "    @param valeur_filtrage : valeur de filtrage\n",
    "    @return: le dataframe filtré\n",
    "    \"\"\"\n",
    "    pass"
   ]
  },
  {
   "cell_type": "code",
   "execution_count": 67,
   "id": "4844cc35",
   "metadata": {},
   "outputs": [],
   "source": [
    "# TODO Récupérer tous les projets qui sont de type IA (ML)\n",
    "\n",
    "# TODO Récupérer tous les projets qui ne sont pas de type non-IA (ML)"
   ]
  },
  {
   "cell_type": "code",
   "execution_count": 68,
   "id": "98c615cd",
   "metadata": {
    "scrolled": false
   },
   "outputs": [],
   "source": [
    "# TODO Afficher les 5 cinq premières lignes pour le dataframe des projets de machine learning"
   ]
  },
  {
   "cell_type": "code",
   "execution_count": 69,
   "id": "9cbf37f2",
   "metadata": {},
   "outputs": [],
   "source": [
    "# TODO Afficher les 5 cinq premières lignes pour le dataframe des projets qui ne sont pas de machine learning"
   ]
  },
  {
   "cell_type": "code",
   "execution_count": 70,
   "id": "873b7c25",
   "metadata": {},
   "outputs": [],
   "source": [
    "# TODO Calculer les moyennes des étoiles pour les projets IA et les projets non-IA"
   ]
  },
  {
   "cell_type": "code",
   "execution_count": 71,
   "id": "01dba831",
   "metadata": {},
   "outputs": [],
   "source": [
    "# TODO Afficher les moyennes des étoiles pour chaque type de projet"
   ]
  },
  {
   "cell_type": "markdown",
   "id": "87e3d379",
   "metadata": {},
   "source": [
    "## 4 Visualisation des donnees"
   ]
  },
  {
   "cell_type": "code",
   "execution_count": 72,
   "id": "551de8d2",
   "metadata": {},
   "outputs": [],
   "source": [
    "# TODO Faire le Scatter plot des étoiles vs forks avec distinction IA et non IA\n",
    "# TODO 1. Votre figure doit avoir la taille (10, 6) utiliser la librairie Matplotlib\n",
    "# TODO 2. Creer votre nuage de points en utilisant seaborn\n",
    "# TODO 3. Vous devez limitez vos échelles a 50 000 pour l'axe des x et 10 000 pour l'axe des y\n",
    "# TODO 4. Donnez les légendes suivantes:\n",
    "#     - Titre: Relation entre les forks et les étoiles (IA vs non-IA)\"\n",
    "#     - Titre de l'axe des x: Nombre d'étoiles\n",
    "#     - Titre de l'axe des y: Nombre de forks\n",
    "#     - Legende du graphe: Utilise IA ?"
   ]
  },
  {
   "cell_type": "code",
   "execution_count": 73,
   "id": "ec674494",
   "metadata": {},
   "outputs": [],
   "source": [
    "# TODO Faite un Diagramme en barres comparatives (diagramme de bande)\n",
    "# TODO 1. Votre figure doit avoir la taille (10, 6)\n",
    "# TODO 2. Utiliser seaborn pour faire votre diagramme\n",
    "# 2. Donnez les legendes suivantes:\n",
    "#     - Titre: Comparaison du nombre moyen d'étoiles (IA vs non-IA)\"\n",
    "#     - Titre de l'axe des y: 'Nombre moyen d'étoiles'"
   ]
  },
  {
   "cell_type": "markdown",
   "id": "49981104",
   "metadata": {},
   "source": [
    "## 5. Questions "
   ]
  },
  {
   "cell_type": "code",
   "execution_count": 74,
   "id": "8469ba84",
   "metadata": {},
   "outputs": [],
   "source": [
    "# TODO Question 1: En vous basant sur vos graphes précédent, faites deux observations ? (maximum deux observations)\n",
    "# TODO Question 2: Toujours en vous basant sur votre affichage précédent, \n",
    "# dans quel type de projet le langage Python est-il plus populaire ? Pourquoi?"
   ]
  },
  {
   "cell_type": "markdown",
   "id": "b8fdff73",
   "metadata": {},
   "source": [
    "TODO Vos reponses ici"
   ]
  },
  {
   "cell_type": "markdown",
   "id": "48260510",
   "metadata": {},
   "source": [
    "# Partie Bonus"
   ]
  },
  {
   "cell_type": "code",
   "execution_count": null,
   "id": "b3cb9640",
   "metadata": {},
   "outputs": [],
   "source": [
    "# TODO Est-ce que les résultats obtenus concordent avec ceux que vous avez obtenus précédemment ? Pourquoi ?\n",
    "# Justifiez votre réponse en vous basant sur les résultats que vous avez obtenus."
   ]
  }
 ],
 "metadata": {
  "kernelspec": {
   "display_name": "presentation",
   "language": "python",
   "name": "python3"
  },
  "language_info": {
   "codemirror_mode": {
    "name": "ipython",
    "version": 3
   },
   "file_extension": ".py",
   "mimetype": "text/x-python",
   "name": "python",
   "nbconvert_exporter": "python",
   "pygments_lexer": "ipython3",
   "version": "3.10.4"
  }
 },
 "nbformat": 4,
 "nbformat_minor": 5
}
